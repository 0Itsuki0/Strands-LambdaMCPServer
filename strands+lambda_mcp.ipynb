{
 "cells": [
  {
   "cell_type": "markdown",
   "id": "7ad38813",
   "metadata": {},
   "source": [
    "## Simple Lambda"
   ]
  },
  {
   "cell_type": "code",
   "execution_count": null,
   "id": "7776206a",
   "metadata": {},
   "outputs": [],
   "source": [
    "region = \"us-east-1\""
   ]
  },
  {
   "cell_type": "code",
   "execution_count": null,
   "id": "cf385ba6",
   "metadata": {},
   "outputs": [],
   "source": [
    "import json\n",
    "import boto3\n",
    "iam_client = boto3.client('iam')\n",
    "lambda_client = boto3.client('lambda', region_name = region)\n",
    "\n",
    "lambda_execution_role_name = \"LambdaExecutionRole\"\n",
    "policy_name = \"LogAccessPolicy\"\n",
    "\n",
    "response = iam_client.create_role(\n",
    "    RoleName=lambda_execution_role_name,\n",
    "    AssumeRolePolicyDocument=json.dumps({\n",
    "        \"Version\": \"2012-10-17\",\n",
    "        \"Statement\": [\n",
    "            {\n",
    "                \"Effect\": \"Allow\",\n",
    "                \"Principal\": {\n",
    "                    \"Service\": \"lambda.amazonaws.com\"\n",
    "                },\n",
    "                \"Action\": \"sts:AssumeRole\"\n",
    "            }\n",
    "        ]\n",
    "    }),\n",
    ")\n",
    "\n",
    "lambda_role_arn = response[\"Role\"][\"Arn\"]\n",
    "\n",
    "iam_client.put_role_policy(\n",
    "    RoleName=lambda_execution_role_name,\n",
    "    PolicyName=policy_name,\n",
    "    PolicyDocument=json.dumps({\n",
    "        \"Version\": \"2012-10-17\",\n",
    "        \"Statement\": [\n",
    "            {\n",
    "                \"Effect\": \"Allow\",\n",
    "                \"Action\": [\n",
    "                    \"logs:*\",\n",
    "                ],\n",
    "                \"Resource\": \"*\"\n",
    "            }\n",
    "        ]\n",
    "    })\n",
    ")"
   ]
  },
  {
   "cell_type": "code",
   "execution_count": null,
   "id": "49faaa23",
   "metadata": {},
   "outputs": [],
   "source": [
    "import io\n",
    "import zipfile\n",
    "\n",
    "lambda_function_name = \"lambda_mcp_get_logs_lambda\"\n",
    "zip_buffer = io.BytesIO()\n",
    "with zipfile.ZipFile(zip_buffer, 'w', zipfile.ZIP_DEFLATED) as zf:\n",
    "    zf.write('lambda_function.py')\n",
    "zip_buffer.seek(0)\n",
    "\n",
    "# wait for couple seconds for the role above to be created before creating lambda\n",
    "response = lambda_client.create_function(\n",
    "    FunctionName=lambda_function_name,\n",
    "    Runtime='python3.13',\n",
    "    Role=lambda_role_arn,\n",
    "    Handler='lambda_function.lambda_handler',\n",
    "    Code={\n",
    "        'ZipFile': zip_buffer.read()\n",
    "    },\n",
    "    Timeout=60,\n",
    "    Publish=True,\n",
    ")\n",
    "\n",
    "lambda_arn = response[\"FunctionArn\"]\n"
   ]
  },
  {
   "cell_type": "code",
   "execution_count": null,
   "id": "e1666726",
   "metadata": {},
   "outputs": [],
   "source": [
    "print(lambda_arn)"
   ]
  },
  {
   "cell_type": "markdown",
   "id": "660d599c",
   "metadata": {},
   "source": [
    "## Create Strands Agent"
   ]
  },
  {
   "cell_type": "code",
   "execution_count": null,
   "id": "b8f5451f",
   "metadata": {},
   "outputs": [],
   "source": [
    "from strands.tools.mcp import MCPClient\n",
    "from mcp import stdio_client, StdioServerParameters\n",
    "\n",
    "# MCP Client Setting\n",
    "lambda_mcp_client = MCPClient(\n",
    "    lambda: stdio_client(\n",
    "        StdioServerParameters(\n",
    "            command=\"uvx\",\n",
    "            args=[\"awslabs.lambda-tool-mcp-server@latest\"],\n",
    "            env={\n",
    "                # \"AWS_PROFILE\": \"your-aws-profile\",\n",
    "                \"AWS_REGION\": region, # same region as where we have created lambda\n",
    "                # \"FUNCTION_PREFIX\": \"your-function-prefix\",\n",
    "                \"FUNCTION_LIST\": lambda_function_name, # comman seperated function names, ie: your-first-function, your-second-function\n",
    "                # \"FUNCTION_TAG_KEY\": \"your-tag-key\",\n",
    "                # \"FUNCTION_TAG_VALUE\": \"your-tag-value\",\n",
    "                # \"FUNCTION_INPUT_SCHEMA_ARN_TAG_KEY\": \"your-function-tag-for-input-schema\"\n",
    "            }\n",
    "        )\n",
    "    )\n",
    ")\n",
    "lambda_mcp_client.start()"
   ]
  },
  {
   "cell_type": "code",
   "execution_count": null,
   "id": "4f7986f0",
   "metadata": {},
   "outputs": [],
   "source": [
    "# import boto3\n",
    "from strands import Agent\n",
    "from strands.models import BedrockModel\n",
    "\n",
    "bedrock_model = BedrockModel(\n",
    "    model_id=\"us.anthropic.claude-sonnet-4-20250514-v1:0\",\n",
    "    region_name=region,\n",
    ")\n",
    "\n",
    "agent = Agent(\n",
    "    model=bedrock_model,\n",
    "    tools=lambda_mcp_client.list_tools_sync()\n",
    ")"
   ]
  },
  {
   "cell_type": "markdown",
   "id": "8c3a8d0f",
   "metadata": {},
   "source": [
    "## Test it out"
   ]
  },
  {
   "cell_type": "code",
   "execution_count": null,
   "id": "426c7fc3",
   "metadata": {},
   "outputs": [],
   "source": [
    "agent.tool_registry.get_all_tools_config()\n",
    "\n",
    "# {'lambda_mcp_get_logs_lambda': {'inputSchema': {'json': {'properties': {'parameters': {'additionalProperties': True,\n",
    "#       'title': 'Parameters',\n",
    "#       'type': 'object',\n",
    "#       'description': 'Property parameters'}},\n",
    "#     'required': ['parameters'],\n",
    "#     'title': 'lambda_functionArguments',\n",
    "#     'type': 'object'}},\n",
    "#   'name': 'lambda_mcp_get_logs_lambda',\n",
    "#   'description': 'Tool which performs lambda_mcp_get_logs_lambda'}}"
   ]
  },
  {
   "cell_type": "code",
   "execution_count": null,
   "id": "2a09a902",
   "metadata": {},
   "outputs": [],
   "source": [
    "# without any function parameters required\n",
    "result = agent(\"get my aws logs for me\")\n",
    "print(result.message[\"content\"])\n",
    "# I'll help you get your AWS logs. Let me retrieve them for you.\n",
    "# Tool #1: lambda_mcp_get_logs_lambda\n",
    "# Here are your AWS CloudWatch log groups. I can see you have quite a collection of logs from various AWS services! Here's a summary of what I found:\n",
    "\n",
    "# ## Log Groups Overview:\n",
    "\n",
    "# **Bedrock Agent Core Logs:**\n",
    "# - Runtime demo logs\n",
    "# - Runtime with memory logs\n",
    "\n",
    "# **CloudFront Function Logs:**\n",
    "# - API test functions\n",
    "# - Header update functions\n",
    "# - Print API test functions\n",
    "# ..."
   ]
  },
  {
   "cell_type": "code",
   "execution_count": null,
   "id": "ccebbba4",
   "metadata": {},
   "outputs": [],
   "source": [
    "# with function parameters required\n",
    "result = agent(\"get my aws lambda logs for me\")\n",
    "\n",
    "# I'll get your AWS Lambda logs specifically. Let me retrieve them for you.\n",
    "# Tool #2: lambda_mcp_get_logs_lambda\n",
    "# Here are your AWS Lambda function logs specifically. I've filtered out just the Lambda-related log groups from your CloudWatch logs:\n",
    "\n",
    "# ## AWS Lambda Log Groups:\n",
    "\n",
    "# ### **Business/Application Functions:**\n",
    "# 1. **...** - 41.7KB of logs\n",
    "# 2. **...** - 69.7KB (731-day retention)\n",
    "# ..."
   ]
  },
  {
   "cell_type": "code",
   "execution_count": null,
   "id": "4f298092",
   "metadata": {},
   "outputs": [],
   "source": [
    "tool_uses_messages = list(filter(lambda x: x[\"role\"] == \"assistant\" and any(content.get(\"toolUse\") is not None for content in x[\"content\"]), agent.messages))\n",
    "for message in tool_uses_messages:\n",
    "    print(\"----------\")\n",
    "    contents = message[\"content\"]\n",
    "    for content in contents:\n",
    "        if content.get(\"toolUse\") is not None:\n",
    "            tool_use = content.get(\"toolUse\")\n",
    "            print(f\"tool name: {tool_use[\"name\"]}\")\n",
    "            print(f\"input: {tool_use[\"input\"]}\")\n",
    "\n",
    "# ----------\n",
    "# tool name: lambda_mcp_get_logs_lambda\n",
    "# input: {'parameters': {}}\n",
    "# ----------\n",
    "# tool name: lambda_mcp_get_logs_lambda\n",
    "# input: {'parameters': {'service': 'lambda'}} # sepcifying not-existing key!"
   ]
  },
  {
   "cell_type": "markdown",
   "id": "0d5aeb7a",
   "metadata": {},
   "source": [
    "## Delete resources"
   ]
  },
  {
   "cell_type": "code",
   "execution_count": null,
   "id": "fe1dd011",
   "metadata": {},
   "outputs": [],
   "source": [
    "\n",
    "# delete lambda\n",
    "response = lambda_client.delete_function(\n",
    "    FunctionName=lambda_function_name,\n",
    ")\n",
    "\n",
    "# delete role policy and role\n",
    "iam_client.delete_role_policy(\n",
    "    RoleName=lambda_execution_role_name,\n",
    "    PolicyName=policy_name\n",
    ")\n",
    "\n",
    "iam_client.delete_role(\n",
    "    RoleName = lambda_execution_role_name\n",
    ")\n"
   ]
  }
 ],
 "metadata": {
  "kernelspec": {
   "display_name": ".venv",
   "language": "python",
   "name": "python3"
  },
  "language_info": {
   "codemirror_mode": {
    "name": "ipython",
    "version": 3
   },
   "file_extension": ".py",
   "mimetype": "text/x-python",
   "name": "python",
   "nbconvert_exporter": "python",
   "pygments_lexer": "ipython3",
   "version": "3.13.7"
  }
 },
 "nbformat": 4,
 "nbformat_minor": 5
}
